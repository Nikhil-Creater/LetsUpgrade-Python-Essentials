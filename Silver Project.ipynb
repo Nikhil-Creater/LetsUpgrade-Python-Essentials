{
 "cells": [
  {
   "cell_type": "code",
   "execution_count": 3,
   "metadata": {},
   "outputs": [],
   "source": [
    "def takePlayerInput():\n",
    "    player = \"blank\"\n",
    "    while not( player.lower() == \"r\" or player.lower() == \"p\" or player.lower() == \"s\") :\n",
    "        player = input(\"Please Enter your input out of - R | P | S = \")\n",
    "    return player.lower()"
   ]
  },
  {
   "cell_type": "code",
   "execution_count": 8,
   "metadata": {},
   "outputs": [
    {
     "name": "stdout",
     "output_type": "stream",
     "text": [
      "Please Enter your input out of - R | P | S = t\n",
      "Please Enter your input out of - R | P | S = g\n",
      "Please Enter your input out of - R | P | S = s\n"
     ]
    },
    {
     "data": {
      "text/plain": [
       "'s'"
      ]
     },
     "execution_count": 8,
     "metadata": {},
     "output_type": "execute_result"
    }
   ],
   "source": [
    "takePlayerInput()"
   ]
  },
  {
   "cell_type": "code",
   "execution_count": 15,
   "metadata": {},
   "outputs": [],
   "source": [
    "import random \n",
    "\n",
    "def getBotInput():\n",
    "    lst = ['r','s','p']\n",
    "    return random.choice(lst)"
   ]
  },
  {
   "cell_type": "code",
   "execution_count": 16,
   "metadata": {},
   "outputs": [
    {
     "data": {
      "text/plain": [
       "'s'"
      ]
     },
     "execution_count": 16,
     "metadata": {},
     "output_type": "execute_result"
    }
   ],
   "source": [
    "getBotInput()"
   ]
  },
  {
   "cell_type": "code",
   "execution_count": 17,
   "metadata": {},
   "outputs": [],
   "source": [
    "def checkWinner(player,bot):\n",
    "    if player == 'r' and bot == \"r\":\n",
    "        return \"draw\"\n",
    "    elif player == \"r\" and bot == \"p\":\n",
    "        return \"bot\"\n",
    "    elif player == \"r\" and bot == \"s\":\n",
    "        return \"player\"\n",
    "    elif player == \"p\" and bot == \"s\":\n",
    "        return \"bot\"\n",
    "    elif player == \"p\" and bot == \"r\":\n",
    "        return \"player\"\n",
    "    elif player == \"p\" and bot == \"p\":\n",
    "        return \"draw\"\n",
    "    elif player == \"s\" and bot == \"r\":\n",
    "        return \"bot\"\n",
    "    elif player == \"s\" and bot == \"p\":\n",
    "        return \"player\"\n",
    "    elif player == \"s\" and bot == \"s\":\n",
    "        return \"draw\"\n",
    "    else:\n",
    "        return \"draw\""
   ]
  },
  {
   "cell_type": "code",
   "execution_count": 18,
   "metadata": {},
   "outputs": [
    {
     "data": {
      "text/plain": [
       "'bot'"
      ]
     },
     "execution_count": 18,
     "metadata": {},
     "output_type": "execute_result"
    }
   ],
   "source": [
    "checkWinner(player = \"r\",bot = \"p\")\n"
   ]
  },
  {
   "cell_type": "code",
   "execution_count": 19,
   "metadata": {},
   "outputs": [],
   "source": [
    "\n",
    "def rockPaperScissor():\n",
    "    endTheGame = \"n\"\n",
    "    player_score = 0 \n",
    "    bot_score = 0\n",
    "    while endTheGame.lower() != \"y\":\n",
    "        ply = takePlayerInput()\n",
    "        bt = getBotInput()\n",
    "        print('Bot Entered - ', bt)\n",
    "        print(\" \")\n",
    "        winner = checkWinner(player = ply, bot = bt)\n",
    "        print(\" Winner is - \", winner)\n",
    "        print(\" \")\n",
    "        if winner == \"player\":\n",
    "            player_score += 2\n",
    "        elif winner == \"bot\":\n",
    "            bot_score += 2\n",
    "        else :\n",
    "            player_score += 1\n",
    "            bot_score += 1\n",
    "            \n",
    "        print(\"--Score board--\")\n",
    "        print(\"PLAYER \",player_score)\n",
    "        print(\"Bot ---\",bot_score)\n",
    "        print(\" \")\n",
    "        endTheGame = input(\"You want to end Y/N - \")"
   ]
  },
  {
   "cell_type": "code",
   "execution_count": 20,
   "metadata": {},
   "outputs": [
    {
     "name": "stdout",
     "output_type": "stream",
     "text": [
      "Please Enter your input out of - R | P | S = r\n",
      "Bot Entered -  r\n",
      " \n",
      " Winner is -  draw\n",
      " \n",
      "--Score board--\n",
      "PLAYER  1\n",
      "Bot --- 1\n",
      " \n",
      "You want to end Y/N - n\n",
      "Please Enter your input out of - R | P | S = p\n",
      "Bot Entered -  r\n",
      " \n",
      " Winner is -  player\n",
      " \n",
      "--Score board--\n",
      "PLAYER  3\n",
      "Bot --- 1\n",
      " \n",
      "You want to end Y/N - n\n",
      "Please Enter your input out of - R | P | S = s\n",
      "Bot Entered -  p\n",
      " \n",
      " Winner is -  player\n",
      " \n",
      "--Score board--\n",
      "PLAYER  5\n",
      "Bot --- 1\n",
      " \n",
      "You want to end Y/N - y\n"
     ]
    }
   ],
   "source": [
    "rockPaperScissor()"
   ]
  },
  {
   "cell_type": "code",
   "execution_count": null,
   "metadata": {},
   "outputs": [],
   "source": []
  }
 ],
 "metadata": {
  "kernelspec": {
   "display_name": "Python 3",
   "language": "python",
   "name": "python3"
  },
  "language_info": {
   "codemirror_mode": {
    "name": "ipython",
    "version": 3
   },
   "file_extension": ".py",
   "mimetype": "text/x-python",
   "name": "python",
   "nbconvert_exporter": "python",
   "pygments_lexer": "ipython3",
   "version": "3.8.3"
  }
 },
 "nbformat": 4,
 "nbformat_minor": 4
}
